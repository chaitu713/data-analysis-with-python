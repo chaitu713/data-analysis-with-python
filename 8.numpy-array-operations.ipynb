{
  "cells": [
    {
      "cell_type": "markdown",
      "metadata": {
        "id": "view-in-github",
        "colab_type": "text"
      },
      "source": [
        "<a href=\"https://colab.research.google.com/github/chaitu713/data-analysis-with-python/blob/master/8.numpy-array-operations.ipynb\" target=\"_parent\"><img src=\"https://colab.research.google.com/assets/colab-badge.svg\" alt=\"Open In Colab\"/></a>"
      ]
    },
    {
      "cell_type": "markdown",
      "metadata": {
        "id": "5leSUnzaE1jh"
      },
      "source": [
        "\n",
        "# A Beginner's Guide to Linear Algebra with NumPy \n",
        "\n",
        "\n",
        "NumPy is a python package for Scientific Computing. It provides high \n",
        "performance multidimensional array objects. It has functions for working in a domain of Linear Algebra, Fourier Transform and Matrices. NumPy was created in 2005 by Travis Oliphant and it is an open source project. In this notebook, let's go through the some of the NumPy linear algebra functions. \n",
        "\n",
        "Functions used in this notebook are:\n",
        "- numpy.vdot\n",
        "- numpy.inner\n",
        "- numpy.linalg.det\n",
        "- numpy.linalg.solve\n",
        "- numpy.linalg.inv"
      ]
    },
    {
      "cell_type": "markdown",
      "metadata": {
        "id": "55vbXYSAE1jk"
      },
      "source": [
        "Let's begin by importing Numpy and listing out the functions covered in this notebook."
      ]
    },
    {
      "cell_type": "code",
      "execution_count": 1,
      "metadata": {
        "id": "2D0hd_yRE1jk"
      },
      "outputs": [],
      "source": [
        "import numpy as np"
      ]
    },
    {
      "cell_type": "code",
      "execution_count": 2,
      "metadata": {
        "id": "AUbI0DnhE1jl"
      },
      "outputs": [],
      "source": [
        "# List of functions explained \n",
        "function1 = np.vdot\n",
        "function2 = np.inner\n",
        "function3 = np.linalg.det\n",
        "function4 = np.linalg.solve\n",
        "function5 = np.linalg.inv"
      ]
    },
    {
      "cell_type": "markdown",
      "metadata": {
        "id": "ZzXEjUBaE1jl"
      },
      "source": [
        "## Function 1 - np.vdot\n",
        "\n",
        "- This function is used to calculate the dot product of two vectors. It can be defined as the sum of product of corresponding elements of n-dimensional arrays."
      ]
    },
    {
      "cell_type": "code",
      "execution_count": 3,
      "metadata": {
        "colab": {
          "base_uri": "https://localhost:8080/"
        },
        "id": "LQ3ksO0XE1jm",
        "outputId": "9361198b-7df2-41d5-eb05-d0f1e8f369b3"
      },
      "outputs": [
        {
          "output_type": "execute_result",
          "data": {
            "text/plain": [
              "1325"
            ]
          },
          "metadata": {},
          "execution_count": 3
        }
      ],
      "source": [
        "# Example 1 - working\n",
        "arr1 = np.array([[23,21],[10,25]])\n",
        "arr2 = np.array([[26,12],[20,11]])\n",
        "\n",
        "result = np.vdot(arr1, arr2)\n",
        "\n",
        "result"
      ]
    },
    {
      "cell_type": "markdown",
      "metadata": {
        "id": "AoV11HxfE1jm"
      },
      "source": [
        "np.vdot(arr1, arr2) - 23 * 26 + 21 * 12 + 10 * 20 + 25 * 11 = 1325"
      ]
    },
    {
      "cell_type": "code",
      "execution_count": 4,
      "metadata": {
        "colab": {
          "base_uri": "https://localhost:8080/"
        },
        "id": "WTKjYefEE1jm",
        "outputId": "2f128317-4611-4c85-f895-99be41705555"
      },
      "outputs": [
        {
          "output_type": "stream",
          "name": "stdout",
          "text": [
            "Array1\n",
            " [[2 5]\n",
            " [3 6]]\n",
            "\n",
            "Array2\n",
            " [[ 4  8]\n",
            " [ 5 10]]\n",
            "\n",
            "Result of vdot operation is  123\n"
          ]
        }
      ],
      "source": [
        "# Example 2 - working\n",
        "arr1 = np.array([np.arange(2,8,3),np.arange(3,9,3)])\n",
        "arr2 = np.array([np.arange(4,12,4),np.arange(5,15,5)])\n",
        "result = np.vdot(arr1, arr2)\n",
        "print(\"Array1\\n\", arr1)\n",
        "print(\"\")\n",
        "print(\"Array2\\n\", arr2)\n",
        "print(\"\")\n",
        "print(\"Result of vdot operation is \",result)"
      ]
    },
    {
      "cell_type": "markdown",
      "metadata": {
        "id": "2MqxcAzPE1jn"
      },
      "source": [
        "Generated two arrays using np.arange and have applied vdot on both the arrays.\n",
        "\n",
        "np.vdot(arr1, arr2) - 2 * 3 + 5 * 8 + 3 * 5 + 6 * 10 = 123"
      ]
    },
    {
      "cell_type": "code",
      "execution_count": 5,
      "metadata": {
        "colab": {
          "base_uri": "https://localhost:8080/",
          "height": 373
        },
        "id": "S3CnYO9oE1jn",
        "outputId": "bffadde8-f0a2-4e4c-c150-df59bb99920b"
      },
      "outputs": [
        {
          "output_type": "stream",
          "name": "stdout",
          "text": [
            "Array1\n",
            " [[2 5]\n",
            " [3 6]]\n",
            "\n",
            "Array2\n",
            " [[2. 5. 8.]\n",
            " [3. 6. 9.]]\n"
          ]
        },
        {
          "output_type": "error",
          "ename": "ValueError",
          "evalue": "ignored",
          "traceback": [
            "\u001b[0;31m---------------------------------------------------------------------------\u001b[0m",
            "\u001b[0;31mValueError\u001b[0m                                Traceback (most recent call last)",
            "\u001b[0;32m<ipython-input-5-63a01efdbd26>\u001b[0m in \u001b[0;36m<module>\u001b[0;34m()\u001b[0m\n\u001b[1;32m      6\u001b[0m \u001b[0mprint\u001b[0m\u001b[0;34m(\u001b[0m\u001b[0;34m\"\"\u001b[0m\u001b[0;34m)\u001b[0m\u001b[0;34m\u001b[0m\u001b[0;34m\u001b[0m\u001b[0m\n\u001b[1;32m      7\u001b[0m \u001b[0mprint\u001b[0m\u001b[0;34m(\u001b[0m\u001b[0;34m\"Array2\\n\"\u001b[0m\u001b[0;34m,\u001b[0m \u001b[0marr2\u001b[0m\u001b[0;34m)\u001b[0m\u001b[0;34m\u001b[0m\u001b[0;34m\u001b[0m\u001b[0m\n\u001b[0;32m----> 8\u001b[0;31m \u001b[0mresult\u001b[0m \u001b[0;34m=\u001b[0m \u001b[0mnp\u001b[0m\u001b[0;34m.\u001b[0m\u001b[0mvdot\u001b[0m\u001b[0;34m(\u001b[0m\u001b[0marr1\u001b[0m\u001b[0;34m,\u001b[0m \u001b[0marr2\u001b[0m\u001b[0;34m)\u001b[0m\u001b[0;34m\u001b[0m\u001b[0;34m\u001b[0m\u001b[0m\n\u001b[0m\u001b[1;32m      9\u001b[0m \u001b[0mprint\u001b[0m\u001b[0;34m(\u001b[0m\u001b[0mresult\u001b[0m\u001b[0;34m)\u001b[0m\u001b[0;34m\u001b[0m\u001b[0;34m\u001b[0m\u001b[0m\n",
            "\u001b[0;32m<__array_function__ internals>\u001b[0m in \u001b[0;36mvdot\u001b[0;34m(*args, **kwargs)\u001b[0m\n",
            "\u001b[0;31mValueError\u001b[0m: cannot reshape array of size 6 into shape (4,)"
          ]
        }
      ],
      "source": [
        "# Example 3 - breaking (to illustrate when it breaks)\n",
        "arr1 = np.array([np.arange(2,8,3),np.arange(3,9,3)])\n",
        "arr2 = np.array([np.linspace(2,8,3),np.linspace(3,9,3)])\n",
        "\n",
        "print(\"Array1\\n\", arr1)\n",
        "print(\"\")\n",
        "print(\"Array2\\n\", arr2)\n",
        "result = np.vdot(arr1, arr2)\n",
        "print(result)"
      ]
    },
    {
      "cell_type": "markdown",
      "metadata": {
        "id": "QYKR3jQXE1jo"
      },
      "source": [
        "Unlike the above examples, this example doesn't work because the sizes of both the arrays are different."
      ]
    },
    {
      "cell_type": "markdown",
      "metadata": {
        "id": "JW9CjucgE1jp"
      },
      "source": [
        "## Function 2 - np.inner\n",
        "\n",
        "This function returns the sum of the product of inner elements of the 1-D array. For n-D arrays, it returns the sum of product of the elements over the last axis."
      ]
    },
    {
      "cell_type": "code",
      "execution_count": 7,
      "metadata": {
        "colab": {
          "base_uri": "https://localhost:8080/"
        },
        "id": "Qyp0dq82E1jq",
        "outputId": "545d2420-1aec-4e20-8617-07cb7c73ef06"
      },
      "outputs": [
        {
          "output_type": "stream",
          "name": "stdout",
          "text": [
            "Array1\n",
            " [2 4 6 8]\n",
            "\n",
            "Array2\n",
            " [ 3  6  9 12]\n",
            "\n",
            "Result of np.inner is :  180\n"
          ]
        }
      ],
      "source": [
        "# Example 1 - working\n",
        "arr1 = np.array(np.arange(2,10,2))\n",
        "arr2 = np.array(np.arange(3,15,3))\n",
        "print(\"Array1\\n\", arr1)\n",
        "print(\"\")\n",
        "print(\"Array2\\n\", arr2)\n",
        "result = np.inner(arr1, arr2)\n",
        "print(\"\")\n",
        "print(\"Result of np.inner is : \",result)"
      ]
    },
    {
      "cell_type": "markdown",
      "metadata": {
        "id": "IKpf2FlAE1jq"
      },
      "source": [
        "np.inner(arr1, arr2) - 2 * 3 + 4 * 6 + 6 * 9 + 8 * 12 = 180"
      ]
    },
    {
      "cell_type": "code",
      "execution_count": 8,
      "metadata": {
        "colab": {
          "base_uri": "https://localhost:8080/"
        },
        "id": "kKsDHJYME1jq",
        "outputId": "056a5513-d809-41eb-98e6-48bfd01b66fa"
      },
      "outputs": [
        {
          "output_type": "stream",
          "name": "stdout",
          "text": [
            "Array1\n",
            " [[2 5]\n",
            " [3 6]]\n",
            "\n",
            "Array2\n",
            " [[ 4  8]\n",
            " [ 5 10]]\n",
            "\n",
            "Result of np.inner operation is :  [[48 60]\n",
            " [60 75]]\n"
          ]
        }
      ],
      "source": [
        "# Example 2 - working\n",
        "arr1 = np.array([np.arange(2,8,3),np.arange(3,9,3)])\n",
        "arr2 = np.array([np.arange(4,12,4),np.arange(5,15,5)])\n",
        "result = np.inner(arr1, arr2)\n",
        "print(\"Array1\\n\", arr1)\n",
        "print(\"\")\n",
        "print(\"Array2\\n\", arr2)\n",
        "print(\"\")\n",
        "print(\"Result of np.inner operation is : \",result)"
      ]
    },
    {
      "cell_type": "markdown",
      "metadata": {
        "id": "KrcC86h3E1jr"
      },
      "source": [
        "np.inner(arr1, arr2) - \n",
        "\n",
        "    [[2 * 4 + 5 * 8   3 * 4 + 6 * 8]\n",
        "     [2 * 5 + 5 * 10   3 * 5 + 6 * 10]]\n",
        "\n",
        "Result of np.inner operation is :  \n",
        "    [[48 60]\n",
        "     [60 75]]"
      ]
    },
    {
      "cell_type": "code",
      "execution_count": 9,
      "metadata": {
        "colab": {
          "base_uri": "https://localhost:8080/",
          "height": 356
        },
        "id": "gzEFc-_SE1jr",
        "outputId": "6b87b837-dddb-4d87-fb03-ca0c53b55f77"
      },
      "outputs": [
        {
          "output_type": "stream",
          "name": "stdout",
          "text": [
            "Array1\n",
            " [2 4 6 8]\n",
            "\n",
            "Array2\n",
            " [ 3  5  7  9 11 13]\n"
          ]
        },
        {
          "output_type": "error",
          "ename": "ValueError",
          "evalue": "ignored",
          "traceback": [
            "\u001b[0;31m---------------------------------------------------------------------------\u001b[0m",
            "\u001b[0;31mValueError\u001b[0m                                Traceback (most recent call last)",
            "\u001b[0;32m<ipython-input-9-fb70b2a2d022>\u001b[0m in \u001b[0;36m<module>\u001b[0;34m()\u001b[0m\n\u001b[1;32m      5\u001b[0m \u001b[0mprint\u001b[0m\u001b[0;34m(\u001b[0m\u001b[0;34m\"\"\u001b[0m\u001b[0;34m)\u001b[0m\u001b[0;34m\u001b[0m\u001b[0;34m\u001b[0m\u001b[0m\n\u001b[1;32m      6\u001b[0m \u001b[0mprint\u001b[0m\u001b[0;34m(\u001b[0m\u001b[0;34m\"Array2\\n\"\u001b[0m\u001b[0;34m,\u001b[0m \u001b[0marr2\u001b[0m\u001b[0;34m)\u001b[0m\u001b[0;34m\u001b[0m\u001b[0;34m\u001b[0m\u001b[0m\n\u001b[0;32m----> 7\u001b[0;31m \u001b[0mresult\u001b[0m \u001b[0;34m=\u001b[0m \u001b[0mnp\u001b[0m\u001b[0;34m.\u001b[0m\u001b[0minner\u001b[0m\u001b[0;34m(\u001b[0m\u001b[0marr1\u001b[0m\u001b[0;34m,\u001b[0m \u001b[0marr2\u001b[0m\u001b[0;34m)\u001b[0m\u001b[0;34m\u001b[0m\u001b[0;34m\u001b[0m\u001b[0m\n\u001b[0m\u001b[1;32m      8\u001b[0m \u001b[0mprint\u001b[0m\u001b[0;34m(\u001b[0m\u001b[0;34m\"\"\u001b[0m\u001b[0;34m)\u001b[0m\u001b[0;34m\u001b[0m\u001b[0;34m\u001b[0m\u001b[0m\n\u001b[1;32m      9\u001b[0m \u001b[0mprint\u001b[0m\u001b[0;34m(\u001b[0m\u001b[0;34m\"Result of np.inner is : \"\u001b[0m\u001b[0;34m,\u001b[0m\u001b[0mresult\u001b[0m\u001b[0;34m)\u001b[0m\u001b[0;34m\u001b[0m\u001b[0;34m\u001b[0m\u001b[0m\n",
            "\u001b[0;32m<__array_function__ internals>\u001b[0m in \u001b[0;36minner\u001b[0;34m(*args, **kwargs)\u001b[0m\n",
            "\u001b[0;31mValueError\u001b[0m: shapes (4,) and (6,) not aligned: 4 (dim 0) != 6 (dim 0)"
          ]
        }
      ],
      "source": [
        "# Example 3 - breaking (to illustrate when it breaks)\n",
        "arr1 = np.array(np.arange(2,10,2))\n",
        "arr2 = np.array(np.arange(3,15,2))\n",
        "print(\"Array1\\n\", arr1)\n",
        "print(\"\")\n",
        "print(\"Array2\\n\", arr2)\n",
        "result = np.inner(arr1, arr2)\n",
        "print(\"\")\n",
        "print(\"Result of np.inner is : \",result)"
      ]
    },
    {
      "cell_type": "markdown",
      "metadata": {
        "id": "dmUYTkfKE1jr"
      },
      "source": [
        "Unlike the first 2 examples, this example doesn't work because the sizes of two arrays are different"
      ]
    },
    {
      "cell_type": "markdown",
      "metadata": {
        "id": "iv9aQpVpE1js"
      },
      "source": [
        "## Function 3 - np.linalg.det\n",
        "\n",
        "The determnant of a matrix can be calculated using diagonal elements. The det of 2 * 2 matrix of example \n",
        "            [[A B]\n",
        "             [C D]] \n",
        "is AD - BC"
      ]
    },
    {
      "cell_type": "code",
      "execution_count": 10,
      "metadata": {
        "colab": {
          "base_uri": "https://localhost:8080/"
        },
        "id": "r3JP3D4ME1js",
        "outputId": "8be95361-d364-435b-9f56-86caab34018f"
      },
      "outputs": [
        {
          "output_type": "stream",
          "name": "stdout",
          "text": [
            "Array1\n",
            " [[2 5]\n",
            " [3 6]]\n",
            "\n",
            "Result of det operation is :  -3.0000000000000004\n"
          ]
        }
      ],
      "source": [
        "# Example 1 - working\n",
        "arr1 = np.array([np.arange(2,8,3),np.arange(3,9,3)])\n",
        "print(\"Array1\\n\", arr1)\n",
        "result = np.linalg.det(arr1)\n",
        "print(\"\")\n",
        "print(\"Result of det operation is : \",result)"
      ]
    },
    {
      "cell_type": "markdown",
      "metadata": {
        "id": "PhEbHUPTE1jt"
      },
      "source": [
        "Determinant of 2 * 2 array is AD - BC"
      ]
    },
    {
      "cell_type": "code",
      "execution_count": 11,
      "metadata": {
        "colab": {
          "base_uri": "https://localhost:8080/"
        },
        "id": "Bwpg5uGTE1jt",
        "outputId": "f19bd061-30ca-4397-b6c3-4962ea51893c"
      },
      "outputs": [
        {
          "output_type": "stream",
          "name": "stdout",
          "text": [
            "Array1\n",
            " [[ 6  8 10]\n",
            " [ 5  7  9]\n",
            " [ 7 10 13]]\n",
            "\n",
            "Result of det operation is :  0.0\n"
          ]
        }
      ],
      "source": [
        "# Example 2 - working\n",
        "arr1 = np.array([np.arange(6,12,2),np.arange(5,10,2), np.arange(7,14,3)])\n",
        "print(\"Array1\\n\", arr1)\n",
        "result = np.linalg.det(arr1)\n",
        "print(\"\")\n",
        "print(\"Result of det operation is : \",result)"
      ]
    },
    {
      "cell_type": "markdown",
      "metadata": {
        "id": "JKnI1se6E1jt"
      },
      "source": [
        "Determinant of 3 * 3 array is \n",
        "\n",
        "Let array be \n",
        "[[ A  B C]\n",
        " [ D  E  F]\n",
        " [ G H I]]\n",
        "  \n",
        " The det of this 3 * 3 array is A * (EI - FH) - B * (DI - FG) + C * (DH - EG)"
      ]
    },
    {
      "cell_type": "code",
      "execution_count": 12,
      "metadata": {
        "scrolled": true,
        "colab": {
          "base_uri": "https://localhost:8080/",
          "height": 467
        },
        "id": "Cibn8oeQE1jt",
        "outputId": "44ab9f69-48d4-4998-db24-c065a2f62f96"
      },
      "outputs": [
        {
          "output_type": "stream",
          "name": "stdout",
          "text": [
            "Array1\n",
            " [[ 6  8 10]\n",
            " [ 5  7  9]]\n"
          ]
        },
        {
          "output_type": "error",
          "ename": "LinAlgError",
          "evalue": "ignored",
          "traceback": [
            "\u001b[0;31m---------------------------------------------------------------------------\u001b[0m",
            "\u001b[0;31mLinAlgError\u001b[0m                               Traceback (most recent call last)",
            "\u001b[0;32m<ipython-input-12-57fc3399e6db>\u001b[0m in \u001b[0;36m<module>\u001b[0;34m()\u001b[0m\n\u001b[1;32m      2\u001b[0m \u001b[0marr1\u001b[0m \u001b[0;34m=\u001b[0m \u001b[0mnp\u001b[0m\u001b[0;34m.\u001b[0m\u001b[0marray\u001b[0m\u001b[0;34m(\u001b[0m\u001b[0;34m[\u001b[0m\u001b[0mnp\u001b[0m\u001b[0;34m.\u001b[0m\u001b[0marange\u001b[0m\u001b[0;34m(\u001b[0m\u001b[0;36m6\u001b[0m\u001b[0;34m,\u001b[0m\u001b[0;36m12\u001b[0m\u001b[0;34m,\u001b[0m\u001b[0;36m2\u001b[0m\u001b[0;34m)\u001b[0m\u001b[0;34m,\u001b[0m\u001b[0mnp\u001b[0m\u001b[0;34m.\u001b[0m\u001b[0marange\u001b[0m\u001b[0;34m(\u001b[0m\u001b[0;36m5\u001b[0m\u001b[0;34m,\u001b[0m\u001b[0;36m10\u001b[0m\u001b[0;34m,\u001b[0m\u001b[0;36m2\u001b[0m\u001b[0;34m)\u001b[0m\u001b[0;34m]\u001b[0m\u001b[0;34m)\u001b[0m\u001b[0;34m\u001b[0m\u001b[0;34m\u001b[0m\u001b[0m\n\u001b[1;32m      3\u001b[0m \u001b[0mprint\u001b[0m\u001b[0;34m(\u001b[0m\u001b[0;34m\"Array1\\n\"\u001b[0m\u001b[0;34m,\u001b[0m \u001b[0marr1\u001b[0m\u001b[0;34m)\u001b[0m\u001b[0;34m\u001b[0m\u001b[0;34m\u001b[0m\u001b[0m\n\u001b[0;32m----> 4\u001b[0;31m \u001b[0mresult\u001b[0m \u001b[0;34m=\u001b[0m \u001b[0mnp\u001b[0m\u001b[0;34m.\u001b[0m\u001b[0mlinalg\u001b[0m\u001b[0;34m.\u001b[0m\u001b[0mdet\u001b[0m\u001b[0;34m(\u001b[0m\u001b[0marr1\u001b[0m\u001b[0;34m)\u001b[0m\u001b[0;34m\u001b[0m\u001b[0;34m\u001b[0m\u001b[0m\n\u001b[0m\u001b[1;32m      5\u001b[0m \u001b[0mprint\u001b[0m\u001b[0;34m(\u001b[0m\u001b[0;34m\"\"\u001b[0m\u001b[0;34m)\u001b[0m\u001b[0;34m\u001b[0m\u001b[0;34m\u001b[0m\u001b[0m\n\u001b[1;32m      6\u001b[0m \u001b[0mprint\u001b[0m\u001b[0;34m(\u001b[0m\u001b[0;34m\"Result of det operation is : \"\u001b[0m\u001b[0;34m,\u001b[0m\u001b[0mresult\u001b[0m\u001b[0;34m)\u001b[0m\u001b[0;34m\u001b[0m\u001b[0;34m\u001b[0m\u001b[0m\n",
            "\u001b[0;32m<__array_function__ internals>\u001b[0m in \u001b[0;36mdet\u001b[0;34m(*args, **kwargs)\u001b[0m\n",
            "\u001b[0;32m/usr/local/lib/python3.7/dist-packages/numpy/linalg/linalg.py\u001b[0m in \u001b[0;36mdet\u001b[0;34m(a)\u001b[0m\n\u001b[1;32m   2153\u001b[0m     \u001b[0ma\u001b[0m \u001b[0;34m=\u001b[0m \u001b[0masarray\u001b[0m\u001b[0;34m(\u001b[0m\u001b[0ma\u001b[0m\u001b[0;34m)\u001b[0m\u001b[0;34m\u001b[0m\u001b[0;34m\u001b[0m\u001b[0m\n\u001b[1;32m   2154\u001b[0m     \u001b[0m_assert_stacked_2d\u001b[0m\u001b[0;34m(\u001b[0m\u001b[0ma\u001b[0m\u001b[0;34m)\u001b[0m\u001b[0;34m\u001b[0m\u001b[0;34m\u001b[0m\u001b[0m\n\u001b[0;32m-> 2155\u001b[0;31m     \u001b[0m_assert_stacked_square\u001b[0m\u001b[0;34m(\u001b[0m\u001b[0ma\u001b[0m\u001b[0;34m)\u001b[0m\u001b[0;34m\u001b[0m\u001b[0;34m\u001b[0m\u001b[0m\n\u001b[0m\u001b[1;32m   2156\u001b[0m     \u001b[0mt\u001b[0m\u001b[0;34m,\u001b[0m \u001b[0mresult_t\u001b[0m \u001b[0;34m=\u001b[0m \u001b[0m_commonType\u001b[0m\u001b[0;34m(\u001b[0m\u001b[0ma\u001b[0m\u001b[0;34m)\u001b[0m\u001b[0;34m\u001b[0m\u001b[0;34m\u001b[0m\u001b[0m\n\u001b[1;32m   2157\u001b[0m     \u001b[0msignature\u001b[0m \u001b[0;34m=\u001b[0m \u001b[0;34m'D->D'\u001b[0m \u001b[0;32mif\u001b[0m \u001b[0misComplexType\u001b[0m\u001b[0;34m(\u001b[0m\u001b[0mt\u001b[0m\u001b[0;34m)\u001b[0m \u001b[0;32melse\u001b[0m \u001b[0;34m'd->d'\u001b[0m\u001b[0;34m\u001b[0m\u001b[0;34m\u001b[0m\u001b[0m\n",
            "\u001b[0;32m/usr/local/lib/python3.7/dist-packages/numpy/linalg/linalg.py\u001b[0m in \u001b[0;36m_assert_stacked_square\u001b[0;34m(*arrays)\u001b[0m\n\u001b[1;32m    201\u001b[0m         \u001b[0mm\u001b[0m\u001b[0;34m,\u001b[0m \u001b[0mn\u001b[0m \u001b[0;34m=\u001b[0m \u001b[0ma\u001b[0m\u001b[0;34m.\u001b[0m\u001b[0mshape\u001b[0m\u001b[0;34m[\u001b[0m\u001b[0;34m-\u001b[0m\u001b[0;36m2\u001b[0m\u001b[0;34m:\u001b[0m\u001b[0;34m]\u001b[0m\u001b[0;34m\u001b[0m\u001b[0;34m\u001b[0m\u001b[0m\n\u001b[1;32m    202\u001b[0m         \u001b[0;32mif\u001b[0m \u001b[0mm\u001b[0m \u001b[0;34m!=\u001b[0m \u001b[0mn\u001b[0m\u001b[0;34m:\u001b[0m\u001b[0;34m\u001b[0m\u001b[0;34m\u001b[0m\u001b[0m\n\u001b[0;32m--> 203\u001b[0;31m             \u001b[0;32mraise\u001b[0m \u001b[0mLinAlgError\u001b[0m\u001b[0;34m(\u001b[0m\u001b[0;34m'Last 2 dimensions of the array must be square'\u001b[0m\u001b[0;34m)\u001b[0m\u001b[0;34m\u001b[0m\u001b[0;34m\u001b[0m\u001b[0m\n\u001b[0m\u001b[1;32m    204\u001b[0m \u001b[0;34m\u001b[0m\u001b[0m\n\u001b[1;32m    205\u001b[0m \u001b[0;32mdef\u001b[0m \u001b[0m_assert_finite\u001b[0m\u001b[0;34m(\u001b[0m\u001b[0;34m*\u001b[0m\u001b[0marrays\u001b[0m\u001b[0;34m)\u001b[0m\u001b[0;34m:\u001b[0m\u001b[0;34m\u001b[0m\u001b[0;34m\u001b[0m\u001b[0m\n",
            "\u001b[0;31mLinAlgError\u001b[0m: Last 2 dimensions of the array must be square"
          ]
        }
      ],
      "source": [
        "# Example 3 - breaking (to illustrate when it breaks)\n",
        "arr1 = np.array([np.arange(6,12,2),np.arange(5,10,2)])\n",
        "print(\"Array1\\n\", arr1)\n",
        "result = np.linalg.det(arr1)\n",
        "print(\"\")\n",
        "print(\"Result of det operation is : \",result)"
      ]
    },
    {
      "cell_type": "markdown",
      "metadata": {
        "id": "qSK5Xlg9E1ju"
      },
      "source": [
        "Determinant operation only works for square matrices i.e, 2 * 2, 3 * 3, 4 * 4, and so on"
      ]
    },
    {
      "cell_type": "markdown",
      "metadata": {
        "id": "fPejrVPkE1ju"
      },
      "source": [
        "Some closing comments about when to use this function."
      ]
    },
    {
      "cell_type": "markdown",
      "metadata": {
        "id": "yca26jRyE1ju"
      },
      "source": [
        "## Function 4 - np.linalg.solve\n",
        "\n",
        "This function is used to solve a quadratic equation where values can be given in form of a matrix."
      ]
    },
    {
      "cell_type": "markdown",
      "metadata": {
        "id": "kTafBSI6E1ju"
      },
      "source": [
        "We will solve a system of linear equations:\n",
        "    3X + 5Y + 7Z = 11\n",
        "    2X + 4Y + 8Z = 4\n",
        "    4X + Y + Z = 3"
      ]
    },
    {
      "cell_type": "code",
      "execution_count": 13,
      "metadata": {
        "colab": {
          "base_uri": "https://localhost:8080/"
        },
        "id": "vvDtTY97E1ju",
        "outputId": "df7b3228-6c06-404b-e11b-bce148d5f1c4"
      },
      "outputs": [
        {
          "output_type": "stream",
          "name": "stdout",
          "text": [
            "Array1\n",
            " [[3 5 7]\n",
            " [2 4 8]\n",
            " [4 1 1]]\n",
            "\n",
            "Array2\n",
            " [11  4  3]\n",
            "\n",
            "Result of np.linalg.solve is :  [ 0.  5. -2.]\n"
          ]
        }
      ],
      "source": [
        "# Example 1 - working\n",
        "arr1 = np.array([[3,5,7], [2,4,8], [4,1,1]])\n",
        "arr2 = np.array([11,4,3])\n",
        "print(\"Array1\\n\", arr1)\n",
        "print(\"\")\n",
        "print(\"Array2\\n\", arr2)\n",
        "result = np.linalg.solve(arr1, arr2)\n",
        "print(\"\")\n",
        "print(\"Result of np.linalg.solve is : \",result)"
      ]
    },
    {
      "cell_type": "markdown",
      "metadata": {
        "id": "sxit1pJpE1jv"
      },
      "source": [
        "We will solve a system of linear equations:\n",
        "    3X + 5Y = 11\n",
        "    2X + 4Y = 4"
      ]
    },
    {
      "cell_type": "code",
      "execution_count": 14,
      "metadata": {
        "colab": {
          "base_uri": "https://localhost:8080/"
        },
        "id": "gg1xwJezE1jv",
        "outputId": "5c384bea-3141-4e23-adec-925685950c1a"
      },
      "outputs": [
        {
          "output_type": "stream",
          "name": "stdout",
          "text": [
            "Array1\n",
            " [[3 5]\n",
            " [2 4]]\n",
            "\n",
            "Array2\n",
            " [11  4]\n",
            "\n",
            "Result of np.linalg.solve is :  [12. -5.]\n"
          ]
        }
      ],
      "source": [
        "# Example 2 - working\n",
        "arr1 = np.array([[3,5],[2,4]])\n",
        "arr2 = np.array([11,4])\n",
        "print(\"Array1\\n\", arr1)\n",
        "print(\"\")\n",
        "print(\"Array2\\n\", arr2)\n",
        "result = np.linalg.solve(arr1, arr2)\n",
        "print(\"\")\n",
        "print(\"Result of np.linalg.solve is : \",result)"
      ]
    },
    {
      "cell_type": "markdown",
      "metadata": {
        "id": "XMtuSI7ZE1jv"
      },
      "source": [
        "We will solve a system of linear equations:\n",
        "    3X + 5Y + 7Z = 11\n",
        "    2X + 4Y + 8Z = 4\n",
        " \n",
        " But, np.linalg.solve works with square matrices"
      ]
    },
    {
      "cell_type": "code",
      "execution_count": 15,
      "metadata": {
        "colab": {
          "base_uri": "https://localhost:8080/",
          "height": 519
        },
        "id": "Yo0ZUnuWE1jv",
        "outputId": "3e31f33f-0c3e-4d20-ccfb-8005344bf6ac"
      },
      "outputs": [
        {
          "output_type": "stream",
          "name": "stdout",
          "text": [
            "Array1\n",
            " [[3 5 7]\n",
            " [2 4 8]]\n",
            "\n",
            "Array2\n",
            " [11  4]\n"
          ]
        },
        {
          "output_type": "error",
          "ename": "LinAlgError",
          "evalue": "ignored",
          "traceback": [
            "\u001b[0;31m---------------------------------------------------------------------------\u001b[0m",
            "\u001b[0;31mLinAlgError\u001b[0m                               Traceback (most recent call last)",
            "\u001b[0;32m<ipython-input-15-0212a5d43ca3>\u001b[0m in \u001b[0;36m<module>\u001b[0;34m()\u001b[0m\n\u001b[1;32m      5\u001b[0m \u001b[0mprint\u001b[0m\u001b[0;34m(\u001b[0m\u001b[0;34m\"\"\u001b[0m\u001b[0;34m)\u001b[0m\u001b[0;34m\u001b[0m\u001b[0;34m\u001b[0m\u001b[0m\n\u001b[1;32m      6\u001b[0m \u001b[0mprint\u001b[0m\u001b[0;34m(\u001b[0m\u001b[0;34m\"Array2\\n\"\u001b[0m\u001b[0;34m,\u001b[0m \u001b[0marr2\u001b[0m\u001b[0;34m)\u001b[0m\u001b[0;34m\u001b[0m\u001b[0;34m\u001b[0m\u001b[0m\n\u001b[0;32m----> 7\u001b[0;31m \u001b[0mresult\u001b[0m \u001b[0;34m=\u001b[0m \u001b[0mnp\u001b[0m\u001b[0;34m.\u001b[0m\u001b[0mlinalg\u001b[0m\u001b[0;34m.\u001b[0m\u001b[0msolve\u001b[0m\u001b[0;34m(\u001b[0m\u001b[0marr1\u001b[0m\u001b[0;34m,\u001b[0m \u001b[0marr2\u001b[0m\u001b[0;34m)\u001b[0m\u001b[0;34m\u001b[0m\u001b[0;34m\u001b[0m\u001b[0m\n\u001b[0m\u001b[1;32m      8\u001b[0m \u001b[0mprint\u001b[0m\u001b[0;34m(\u001b[0m\u001b[0;34m\"\"\u001b[0m\u001b[0;34m)\u001b[0m\u001b[0;34m\u001b[0m\u001b[0;34m\u001b[0m\u001b[0m\n\u001b[1;32m      9\u001b[0m \u001b[0mprint\u001b[0m\u001b[0;34m(\u001b[0m\u001b[0;34m\"Result of np.linalg.solve is : \"\u001b[0m\u001b[0;34m,\u001b[0m\u001b[0mresult\u001b[0m\u001b[0;34m)\u001b[0m\u001b[0;34m\u001b[0m\u001b[0;34m\u001b[0m\u001b[0m\n",
            "\u001b[0;32m<__array_function__ internals>\u001b[0m in \u001b[0;36msolve\u001b[0;34m(*args, **kwargs)\u001b[0m\n",
            "\u001b[0;32m/usr/local/lib/python3.7/dist-packages/numpy/linalg/linalg.py\u001b[0m in \u001b[0;36msolve\u001b[0;34m(a, b)\u001b[0m\n\u001b[1;32m    378\u001b[0m     \u001b[0ma\u001b[0m\u001b[0;34m,\u001b[0m \u001b[0m_\u001b[0m \u001b[0;34m=\u001b[0m \u001b[0m_makearray\u001b[0m\u001b[0;34m(\u001b[0m\u001b[0ma\u001b[0m\u001b[0;34m)\u001b[0m\u001b[0;34m\u001b[0m\u001b[0;34m\u001b[0m\u001b[0m\n\u001b[1;32m    379\u001b[0m     \u001b[0m_assert_stacked_2d\u001b[0m\u001b[0;34m(\u001b[0m\u001b[0ma\u001b[0m\u001b[0;34m)\u001b[0m\u001b[0;34m\u001b[0m\u001b[0;34m\u001b[0m\u001b[0m\n\u001b[0;32m--> 380\u001b[0;31m     \u001b[0m_assert_stacked_square\u001b[0m\u001b[0;34m(\u001b[0m\u001b[0ma\u001b[0m\u001b[0;34m)\u001b[0m\u001b[0;34m\u001b[0m\u001b[0;34m\u001b[0m\u001b[0m\n\u001b[0m\u001b[1;32m    381\u001b[0m     \u001b[0mb\u001b[0m\u001b[0;34m,\u001b[0m \u001b[0mwrap\u001b[0m \u001b[0;34m=\u001b[0m \u001b[0m_makearray\u001b[0m\u001b[0;34m(\u001b[0m\u001b[0mb\u001b[0m\u001b[0;34m)\u001b[0m\u001b[0;34m\u001b[0m\u001b[0;34m\u001b[0m\u001b[0m\n\u001b[1;32m    382\u001b[0m     \u001b[0mt\u001b[0m\u001b[0;34m,\u001b[0m \u001b[0mresult_t\u001b[0m \u001b[0;34m=\u001b[0m \u001b[0m_commonType\u001b[0m\u001b[0;34m(\u001b[0m\u001b[0ma\u001b[0m\u001b[0;34m,\u001b[0m \u001b[0mb\u001b[0m\u001b[0;34m)\u001b[0m\u001b[0;34m\u001b[0m\u001b[0;34m\u001b[0m\u001b[0m\n",
            "\u001b[0;32m/usr/local/lib/python3.7/dist-packages/numpy/linalg/linalg.py\u001b[0m in \u001b[0;36m_assert_stacked_square\u001b[0;34m(*arrays)\u001b[0m\n\u001b[1;32m    201\u001b[0m         \u001b[0mm\u001b[0m\u001b[0;34m,\u001b[0m \u001b[0mn\u001b[0m \u001b[0;34m=\u001b[0m \u001b[0ma\u001b[0m\u001b[0;34m.\u001b[0m\u001b[0mshape\u001b[0m\u001b[0;34m[\u001b[0m\u001b[0;34m-\u001b[0m\u001b[0;36m2\u001b[0m\u001b[0;34m:\u001b[0m\u001b[0;34m]\u001b[0m\u001b[0;34m\u001b[0m\u001b[0;34m\u001b[0m\u001b[0m\n\u001b[1;32m    202\u001b[0m         \u001b[0;32mif\u001b[0m \u001b[0mm\u001b[0m \u001b[0;34m!=\u001b[0m \u001b[0mn\u001b[0m\u001b[0;34m:\u001b[0m\u001b[0;34m\u001b[0m\u001b[0;34m\u001b[0m\u001b[0m\n\u001b[0;32m--> 203\u001b[0;31m             \u001b[0;32mraise\u001b[0m \u001b[0mLinAlgError\u001b[0m\u001b[0;34m(\u001b[0m\u001b[0;34m'Last 2 dimensions of the array must be square'\u001b[0m\u001b[0;34m)\u001b[0m\u001b[0;34m\u001b[0m\u001b[0;34m\u001b[0m\u001b[0m\n\u001b[0m\u001b[1;32m    204\u001b[0m \u001b[0;34m\u001b[0m\u001b[0m\n\u001b[1;32m    205\u001b[0m \u001b[0;32mdef\u001b[0m \u001b[0m_assert_finite\u001b[0m\u001b[0;34m(\u001b[0m\u001b[0;34m*\u001b[0m\u001b[0marrays\u001b[0m\u001b[0;34m)\u001b[0m\u001b[0;34m:\u001b[0m\u001b[0;34m\u001b[0m\u001b[0;34m\u001b[0m\u001b[0m\n",
            "\u001b[0;31mLinAlgError\u001b[0m: Last 2 dimensions of the array must be square"
          ]
        }
      ],
      "source": [
        "# Example 3 - breaking (to illustrate when it breaks)\n",
        "arr1 = np.array([[3,5,7], [2,4,8]])\n",
        "arr2 = np.array([11,4])\n",
        "print(\"Array1\\n\", arr1)\n",
        "print(\"\")\n",
        "print(\"Array2\\n\", arr2)\n",
        "result = np.linalg.solve(arr1, arr2)\n",
        "print(\"\")\n",
        "print(\"Result of np.linalg.solve is : \",result)"
      ]
    },
    {
      "cell_type": "markdown",
      "metadata": {
        "id": "-e7qw_tbE1jw"
      },
      "source": [
        "## Function 5 - np.linalg.inv\n",
        "\n",
        "This function is used to calculate the multiplicative inverse of a matrix."
      ]
    },
    {
      "cell_type": "code",
      "execution_count": 17,
      "metadata": {
        "colab": {
          "base_uri": "https://localhost:8080/"
        },
        "id": "_xdlfudnE1jw",
        "outputId": "ab1039a6-f408-495c-ecf8-9b5aa976fd56"
      },
      "outputs": [
        {
          "output_type": "stream",
          "name": "stdout",
          "text": [
            "Array1\n",
            " [[1 3]\n",
            " [4 5]]\n",
            "\n",
            "Result of np.linalg.inv is :  [[-0.71428571  0.42857143]\n",
            " [ 0.57142857 -0.14285714]]\n"
          ]
        }
      ],
      "source": [
        "# Example 1 - working\n",
        "arr1 = np.array([[1,3],[4,5]])\n",
        "print(\"Array1\\n\", arr1)\n",
        "result = np.linalg.inv(arr1)\n",
        "print(\"\")\n",
        "print(\"Result of np.linalg.inv is : \",result)"
      ]
    },
    {
      "cell_type": "markdown",
      "metadata": {
        "id": "brSOjv5gE1jw"
      },
      "source": [
        "Multiplicative inverse can of a 2 * 2 matrix which is of the form \n",
        "    [[a b]\n",
        "     [c d]]\n",
        " is (1/ad-bc)[[d -b]\n",
        "              [-c a]]"
      ]
    },
    {
      "cell_type": "code",
      "execution_count": 18,
      "metadata": {
        "colab": {
          "base_uri": "https://localhost:8080/"
        },
        "id": "rQ5jccooE1jw",
        "outputId": "40700474-7ce2-4de2-8829-8e74f393ebc7"
      },
      "outputs": [
        {
          "output_type": "stream",
          "name": "stdout",
          "text": [
            "Array1\n",
            " [[2 5]\n",
            " [3 7]]\n",
            "\n",
            "Result of np.linalg.inv is :  [[-7.  5.]\n",
            " [ 3. -2.]]\n"
          ]
        }
      ],
      "source": [
        "# Example 2 - working\n",
        "arr1 = np.array([np.arange(2,8,3),np.arange(3,9,4)])\n",
        "print(\"Array1\\n\", arr1)\n",
        "result = np.linalg.inv(arr1)\n",
        "print(\"\")\n",
        "print(\"Result of np.linalg.inv is : \",result)"
      ]
    },
    {
      "cell_type": "markdown",
      "metadata": {
        "id": "__qKGtaLE1jx"
      },
      "source": [
        "Multiplicative inverse can of a 2 * 2 matrix which is of the form \n",
        "    [[a b]\n",
        "     [c d]]\n",
        " is (1/ad-bc)[[d -b]\n",
        "              [-c a]]"
      ]
    },
    {
      "cell_type": "code",
      "execution_count": 19,
      "metadata": {
        "colab": {
          "base_uri": "https://localhost:8080/",
          "height": 484
        },
        "id": "6PyZ5glBE1jx",
        "outputId": "76e23d63-ea7f-4532-d2b4-965056f308a5"
      },
      "outputs": [
        {
          "output_type": "stream",
          "name": "stdout",
          "text": [
            "Array1\n",
            " [[1 3]\n",
            " [4 5]\n",
            " [2 2]]\n"
          ]
        },
        {
          "output_type": "error",
          "ename": "LinAlgError",
          "evalue": "ignored",
          "traceback": [
            "\u001b[0;31m---------------------------------------------------------------------------\u001b[0m",
            "\u001b[0;31mLinAlgError\u001b[0m                               Traceback (most recent call last)",
            "\u001b[0;32m<ipython-input-19-ad6203c207ce>\u001b[0m in \u001b[0;36m<module>\u001b[0;34m()\u001b[0m\n\u001b[1;32m      2\u001b[0m \u001b[0marr1\u001b[0m \u001b[0;34m=\u001b[0m \u001b[0mnp\u001b[0m\u001b[0;34m.\u001b[0m\u001b[0marray\u001b[0m\u001b[0;34m(\u001b[0m\u001b[0;34m[\u001b[0m\u001b[0;34m[\u001b[0m\u001b[0;36m1\u001b[0m\u001b[0;34m,\u001b[0m\u001b[0;36m3\u001b[0m\u001b[0;34m]\u001b[0m\u001b[0;34m,\u001b[0m\u001b[0;34m[\u001b[0m\u001b[0;36m4\u001b[0m\u001b[0;34m,\u001b[0m\u001b[0;36m5\u001b[0m\u001b[0;34m]\u001b[0m\u001b[0;34m,\u001b[0m \u001b[0;34m[\u001b[0m\u001b[0;36m2\u001b[0m\u001b[0;34m,\u001b[0m\u001b[0;36m2\u001b[0m\u001b[0;34m]\u001b[0m\u001b[0;34m]\u001b[0m\u001b[0;34m)\u001b[0m\u001b[0;34m\u001b[0m\u001b[0;34m\u001b[0m\u001b[0m\n\u001b[1;32m      3\u001b[0m \u001b[0mprint\u001b[0m\u001b[0;34m(\u001b[0m\u001b[0;34m\"Array1\\n\"\u001b[0m\u001b[0;34m,\u001b[0m \u001b[0marr1\u001b[0m\u001b[0;34m)\u001b[0m\u001b[0;34m\u001b[0m\u001b[0;34m\u001b[0m\u001b[0m\n\u001b[0;32m----> 4\u001b[0;31m \u001b[0mresult\u001b[0m \u001b[0;34m=\u001b[0m \u001b[0mnp\u001b[0m\u001b[0;34m.\u001b[0m\u001b[0mlinalg\u001b[0m\u001b[0;34m.\u001b[0m\u001b[0minv\u001b[0m\u001b[0;34m(\u001b[0m\u001b[0marr1\u001b[0m\u001b[0;34m)\u001b[0m\u001b[0;34m\u001b[0m\u001b[0;34m\u001b[0m\u001b[0m\n\u001b[0m\u001b[1;32m      5\u001b[0m \u001b[0mprint\u001b[0m\u001b[0;34m(\u001b[0m\u001b[0;34m\"\"\u001b[0m\u001b[0;34m)\u001b[0m\u001b[0;34m\u001b[0m\u001b[0;34m\u001b[0m\u001b[0m\n\u001b[1;32m      6\u001b[0m \u001b[0mprint\u001b[0m\u001b[0;34m(\u001b[0m\u001b[0;34m\"Result of np.linalg.inv is : \"\u001b[0m\u001b[0;34m,\u001b[0m\u001b[0mresult\u001b[0m\u001b[0;34m)\u001b[0m\u001b[0;34m\u001b[0m\u001b[0;34m\u001b[0m\u001b[0m\n",
            "\u001b[0;32m<__array_function__ internals>\u001b[0m in \u001b[0;36minv\u001b[0;34m(*args, **kwargs)\u001b[0m\n",
            "\u001b[0;32m/usr/local/lib/python3.7/dist-packages/numpy/linalg/linalg.py\u001b[0m in \u001b[0;36minv\u001b[0;34m(a)\u001b[0m\n\u001b[1;32m    538\u001b[0m     \u001b[0ma\u001b[0m\u001b[0;34m,\u001b[0m \u001b[0mwrap\u001b[0m \u001b[0;34m=\u001b[0m \u001b[0m_makearray\u001b[0m\u001b[0;34m(\u001b[0m\u001b[0ma\u001b[0m\u001b[0;34m)\u001b[0m\u001b[0;34m\u001b[0m\u001b[0;34m\u001b[0m\u001b[0m\n\u001b[1;32m    539\u001b[0m     \u001b[0m_assert_stacked_2d\u001b[0m\u001b[0;34m(\u001b[0m\u001b[0ma\u001b[0m\u001b[0;34m)\u001b[0m\u001b[0;34m\u001b[0m\u001b[0;34m\u001b[0m\u001b[0m\n\u001b[0;32m--> 540\u001b[0;31m     \u001b[0m_assert_stacked_square\u001b[0m\u001b[0;34m(\u001b[0m\u001b[0ma\u001b[0m\u001b[0;34m)\u001b[0m\u001b[0;34m\u001b[0m\u001b[0;34m\u001b[0m\u001b[0m\n\u001b[0m\u001b[1;32m    541\u001b[0m     \u001b[0mt\u001b[0m\u001b[0;34m,\u001b[0m \u001b[0mresult_t\u001b[0m \u001b[0;34m=\u001b[0m \u001b[0m_commonType\u001b[0m\u001b[0;34m(\u001b[0m\u001b[0ma\u001b[0m\u001b[0;34m)\u001b[0m\u001b[0;34m\u001b[0m\u001b[0;34m\u001b[0m\u001b[0m\n\u001b[1;32m    542\u001b[0m \u001b[0;34m\u001b[0m\u001b[0m\n",
            "\u001b[0;32m/usr/local/lib/python3.7/dist-packages/numpy/linalg/linalg.py\u001b[0m in \u001b[0;36m_assert_stacked_square\u001b[0;34m(*arrays)\u001b[0m\n\u001b[1;32m    201\u001b[0m         \u001b[0mm\u001b[0m\u001b[0;34m,\u001b[0m \u001b[0mn\u001b[0m \u001b[0;34m=\u001b[0m \u001b[0ma\u001b[0m\u001b[0;34m.\u001b[0m\u001b[0mshape\u001b[0m\u001b[0;34m[\u001b[0m\u001b[0;34m-\u001b[0m\u001b[0;36m2\u001b[0m\u001b[0;34m:\u001b[0m\u001b[0;34m]\u001b[0m\u001b[0;34m\u001b[0m\u001b[0;34m\u001b[0m\u001b[0m\n\u001b[1;32m    202\u001b[0m         \u001b[0;32mif\u001b[0m \u001b[0mm\u001b[0m \u001b[0;34m!=\u001b[0m \u001b[0mn\u001b[0m\u001b[0;34m:\u001b[0m\u001b[0;34m\u001b[0m\u001b[0;34m\u001b[0m\u001b[0m\n\u001b[0;32m--> 203\u001b[0;31m             \u001b[0;32mraise\u001b[0m \u001b[0mLinAlgError\u001b[0m\u001b[0;34m(\u001b[0m\u001b[0;34m'Last 2 dimensions of the array must be square'\u001b[0m\u001b[0;34m)\u001b[0m\u001b[0;34m\u001b[0m\u001b[0;34m\u001b[0m\u001b[0m\n\u001b[0m\u001b[1;32m    204\u001b[0m \u001b[0;34m\u001b[0m\u001b[0m\n\u001b[1;32m    205\u001b[0m \u001b[0;32mdef\u001b[0m \u001b[0m_assert_finite\u001b[0m\u001b[0;34m(\u001b[0m\u001b[0;34m*\u001b[0m\u001b[0marrays\u001b[0m\u001b[0;34m)\u001b[0m\u001b[0;34m:\u001b[0m\u001b[0;34m\u001b[0m\u001b[0;34m\u001b[0m\u001b[0m\n",
            "\u001b[0;31mLinAlgError\u001b[0m: Last 2 dimensions of the array must be square"
          ]
        }
      ],
      "source": [
        "# Example 3 - breaking (to illustrate when it breaks)\n",
        "arr1 = np.array([[1,3],[4,5], [2,2]])\n",
        "print(\"Array1\\n\", arr1)\n",
        "result = np.linalg.inv(arr1)\n",
        "print(\"\")\n",
        "print(\"Result of np.linalg.inv is : \",result)"
      ]
    },
    {
      "cell_type": "markdown",
      "metadata": {
        "id": "--DLdbY3E1jx"
      },
      "source": [
        "Multiplicative Inverse can be only calculated on Square Matrices"
      ]
    },
    {
      "cell_type": "markdown",
      "metadata": {
        "id": "70du5cDBE1jx"
      },
      "source": [
        "## Conclusion\n",
        "\n",
        "In this notebook, we have gone through some of the basic NumPy Linear Algebra functions.\n",
        "\n",
        "For more you can refer : https://numpy.org/doc/stable/reference/routines.linalg.html"
      ]
    },
    {
      "cell_type": "markdown",
      "metadata": {
        "id": "tF8iOy9DE1jy"
      },
      "source": [
        "## Reference Links\n",
        "Provide links to your references and other interesting articles about Numpy arrays:\n",
        "* Numpy official tutorial : https://numpy.org/doc/stable/user/quickstart.html\n",
        "* ..."
      ]
    }
  ],
  "metadata": {
    "kernelspec": {
      "display_name": "Python 3 (ipykernel)",
      "language": "python",
      "name": "python3"
    },
    "language_info": {
      "codemirror_mode": {
        "name": "ipython",
        "version": 3
      },
      "file_extension": ".py",
      "mimetype": "text/x-python",
      "name": "python",
      "nbconvert_exporter": "python",
      "pygments_lexer": "ipython3",
      "version": "3.9.6"
    },
    "colab": {
      "name": "8.numpy-array-operations.ipynb",
      "provenance": [],
      "collapsed_sections": [],
      "include_colab_link": true
    }
  },
  "nbformat": 4,
  "nbformat_minor": 0
}